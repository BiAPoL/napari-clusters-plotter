{
 "cells": [
  {
   "cell_type": "code",
   "execution_count": 3,
   "id": "650545d8",
   "metadata": {},
   "outputs": [
    {
     "name": "stdout",
     "output_type": "stream",
     "text": [
      "0\n",
      "1\n"
     ]
    }
   ],
   "source": [
    "import napari\n",
    "from skimage.io import imread\n",
    "import numpy as np\n",
    "import pandas as pd\n",
    "import time\n",
    "from napari_clusters_plotter._utilities import get_nice_colormap\n",
    "from vispy.color import Color\n",
    "import pyclesperanto_prototype as cle\n",
    "from skimage.io.collection import alphanumeric_key\n",
    "from dask import delayed\n",
    "import dask.array as da\n",
    "from glob import glob\n",
    "\n",
    "finsterwalde_path = 'C:/Users/ryans/Documents/output data (big)/Finsterwalde Gastrulation Labels (new timeframe)/'\n",
    "regprops_name = 'finsterwalder_master_regprops_ncp.csv'\n",
    "regprops = pd.read_csv(finsterwalde_path + regprops_name)\n",
    "\n",
    "colors =get_nice_colormap()\n",
    "cmap = [Color(hex_name).RGBA.astype(\"float\") / 255 for hex_name in colors]\n",
    "\n",
    "predictions = regprops['MANUAL_CLUSTER_ID'].to_numpy()\n",
    "for i in set(predictions):\n",
    "    print(i)"
   ]
  },
  {
   "cell_type": "code",
   "execution_count": 5,
   "id": "3fe2d6cb",
   "metadata": {},
   "outputs": [
    {
     "name": "stdout",
     "output_type": "stream",
     "text": [
      "time as is:     62500000ns\n",
      "time using set: 15625000ns\n"
     ]
    }
   ],
   "source": [
    "starttime = time.process_time_ns()\n",
    "cmap_dict = {\n",
    "    int(prediction + 1): (\n",
    "        cmap[int(prediction) % len(cmap)]\n",
    "        if prediction >= 0\n",
    "        else [0, 0, 0, 0]\n",
    "    )\n",
    "    for prediction in predictions\n",
    "}\n",
    "enddtime = time.process_time_ns()\n",
    "time_as_is = enddtime - starttime\n",
    "print(f'time as is:     {time_as_is}ns')\n",
    "\n",
    "starttime = time.process_time_ns()\n",
    "cmap_dict = {\n",
    "    int(prediction + 1): (\n",
    "        cmap[int(prediction) % len(cmap)]\n",
    "        if prediction >= 0\n",
    "        else [0, 0, 0, 0]\n",
    "    )\n",
    "    for prediction in set(predictions)\n",
    "}\n",
    "enddtime = time.process_time_ns()\n",
    "time_set = enddtime - starttime\n",
    "print(f'time using set: {time_set}ns')\n"
   ]
  }
 ],
 "metadata": {
  "kernelspec": {
   "display_name": "Python 3 (ipykernel)",
   "language": "python",
   "name": "python3"
  },
  "language_info": {
   "codemirror_mode": {
    "name": "ipython",
    "version": 3
   },
   "file_extension": ".py",
   "mimetype": "text/x-python",
   "name": "python",
   "nbconvert_exporter": "python",
   "pygments_lexer": "ipython3",
   "version": "3.9.7"
  }
 },
 "nbformat": 4,
 "nbformat_minor": 5
}
