{
 "cells": [
  {
   "cell_type": "code",
   "execution_count": 1,
   "id": "9c6216f6",
   "metadata": {},
   "outputs": [
    {
     "name": "stderr",
     "output_type": "stream",
     "text": [
      "C:\\Users\\ryans\\Anaconda3\\envs\\ncp-dev\\lib\\site-packages\\napari_tools_menu\\__init__.py:165: FutureWarning: Public access to Window.qt_viewer is deprecated and will be removed in\n",
      "v0.5.0. It is considered an \"implementation detail\" of the napari\n",
      "application, not part of the napari viewer model. If your use case\n",
      "requires access to qt_viewer, please open an issue to discuss.\n",
      "  self.tools_menu = ToolsMenu(self, self.qt_viewer.viewer)\n"
     ]
    }
   ],
   "source": [
    "import napari\n",
    "from skimage.io import imread\n",
    "import numpy as np\n",
    "import pandas as pd\n",
    "import time\n",
    "from napari_clusters_plotter._utilities import get_nice_colormap\n",
    "from vispy.color import Color\n",
    "import pyclesperanto_prototype as cle\n",
    "\n",
    "regprops = pd.read_csv('table_with_prediction.csv')\n",
    "cluster_id = regprops['MANUAL_CLUSTER_ID'].to_numpy()\n",
    "labels_list = regprops['label'].to_numpy()\n",
    "\n",
    "label_image = imread(r\"C:\\Users\\ryans\\Documents\\output data (big)\\Finsterwalde Gastrulation Labels (new timeframe)\\workflow t = 49837.5s.tif\")\n",
    "\n",
    "colors =get_nice_colormap()\n",
    "cmap = [Color(hex_name).RGBA.astype(\"float\") / 255 for hex_name in colors]\n",
    "cmap_dict = {\n",
    "    int(prediction + 1): (\n",
    "        cmap[int(prediction) % len(cmap)]\n",
    "        if prediction >= 0\n",
    "        else [0, 0, 0, 0]\n",
    "    )\n",
    "    for prediction in cluster_id\n",
    "}\n",
    "# take care of background label\n",
    "cmap_dict[0] = [0, 0, 0, 0]\n",
    "\n",
    "viewer = napari.Viewer()\n",
    "viewer.add_labels(label_image)\n",
    "\n",
    "def generate_cluster_image_cle(label_image, predictionlist):\n",
    "    \"\"\"\n",
    "    Returns a label image where each label value corresponds\n",
    "    to the cluster identity defined by the predictionlist.\n",
    "    it is assumed that len(predictionlist) == max(label_image)\n",
    "\n",
    "    Parameters\n",
    "    ----------\n",
    "    label_image: ndarray or dask array\n",
    "        Label image used for cluster predictions\n",
    "    predictionlist: array\n",
    "        Array containing cluster identities for each label\n",
    "    \"\"\"\n",
    "    # reforming the prediction list this is done to account\n",
    "    # for cluster labels that start at 0 conviniently hdbscan\n",
    "    # labelling starts at -1 for noise, removing these from\n",
    "    # the labels\n",
    "    predictionlist = np.array(predictionlist) + 1\n",
    "    predictionlist_new = np.asarray([0] + predictionlist)\n",
    "\n",
    "    # loading data into gpu\n",
    "    gpu_labelimage = cle.push(label_image)\n",
    "\n",
    "    # generation of cluster label image\n",
    "    parametric_image = cle.replace_intensities(gpu_labelimage, predictionlist_new)\n",
    "    gpu_labelimage = None\n",
    "\n",
    "    # retrieving the gpu image\n",
    "    output = cle.pull(parametric_image).astype(\"uint32\")\n",
    "    parametric_image = None\n",
    "\n",
    "    return output\n",
    "\n",
    "def generate_cluster_image(label_image, predictionlist):\n",
    "    \"\"\"\n",
    "    Returns a label image where each label value corresponds\n",
    "    to the cluster identity defined by the predictionlist.\n",
    "    it is assumed that len(predictionlist) == max(label_image)\n",
    "\n",
    "    Parameters\n",
    "    ----------\n",
    "    label_image: ndarray or dask array\n",
    "        Label image used for cluster predictions\n",
    "    predictionlist: array\n",
    "        Array containing cluster identities for each label\n",
    "    \"\"\"\n",
    "    # reforming the prediction list this is done to account\n",
    "    # for cluster labels that start at 0 conviniently hdbscan\n",
    "    # labelling starts at -1 for noise, removing these from\n",
    "    # the labels\n",
    "    predictionlist_new = np.array(predictionlist) + 1\n",
    "    predictionlist_new = np.insert(predictionlist_new, 0, 0)\n",
    "\n",
    "    # loading data into gpu\n",
    "    clelist = cle.push(predictionlist_new)\n",
    "    gpu_labelimage = cle.push(label_image)\n",
    "\n",
    "    # generation of cluster label image\n",
    "    parametric_image = cle.replace_intensities(gpu_labelimage, clelist)\n",
    "    gpu_labelimage = None\n",
    "    clelist = None\n",
    "\n",
    "    # retrieving the gpu image\n",
    "    output = cle.pull(parametric_image).astype(\"uint32\")\n",
    "    parametric_image = None\n",
    "\n",
    "    return output\n",
    "\n",
    "def generate_cluster_image_np(label_image, predictionlist):\n",
    "    predictionlist_new = np.array(predictionlist) + 1\n",
    "    predictionlist_new = np.insert(predictionlist_new, 0, 0)\n",
    "    return np.take(predictionlist_new, label_image)\n",
    "\n",
    "\n",
    "def relabel_numpy(image, measurements):\n",
    "    return np.take(np.array([0] + measurements), image)\n",
    "\n",
    "def generate_label_to_cluster_color_mapping(label_list, predictionlist, colormap_dict):\n",
    "    predictionlist_new = np.array(predictionlist) + 1\n",
    "    mapping = {0: [0,0,0,0]}\n",
    "    for label,prediction in zip(label_list,predictionlist_new):\n",
    "        mapping[label] = colormap_dict[prediction]\n",
    "        \n",
    "    return mapping"
   ]
  },
  {
   "cell_type": "markdown",
   "id": "10955e3c",
   "metadata": {},
   "source": [
    "## Pyclesperanto time"
   ]
  },
  {
   "cell_type": "code",
   "execution_count": 2,
   "id": "e23058ec",
   "metadata": {},
   "outputs": [
    {
     "name": "stdout",
     "output_type": "stream",
     "text": [
      "pyclesperanto took 828.125 ms\n"
     ]
    }
   ],
   "source": [
    "starttime = time.process_time_ns()\n",
    "cl_image = generate_cluster_image(label_image,predictionlist=cluster_id)\n",
    "\n",
    "viewer.add_labels(cl_image, color=cmap_dict)\n",
    "\n",
    "endtime = time.process_time_ns()\n",
    "cle_time = endtime-starttime\n",
    "print(f'pyclesperanto took {cle_time/1_000_000} ms')"
   ]
  },
  {
   "cell_type": "markdown",
   "id": "cf6823f7",
   "metadata": {},
   "source": [
    "## Numpy Time"
   ]
  },
  {
   "cell_type": "code",
   "execution_count": 3,
   "id": "59038f7a",
   "metadata": {},
   "outputs": [
    {
     "name": "stdout",
     "output_type": "stream",
     "text": [
      "numpy took 968.75 ms\n"
     ]
    }
   ],
   "source": [
    "starttime = time.process_time_ns()\n",
    "np_image = generate_cluster_image_np(label_image,predictionlist=cluster_id)\n",
    "\n",
    "viewer.add_labels(np_image, color=cmap_dict)\n",
    "\n",
    "endtime = time.process_time_ns()\n",
    "np_time = endtime - starttime\n",
    "\n",
    "print(f'numpy took {np_time/1_000_000} ms')\n"
   ]
  },
  {
   "cell_type": "markdown",
   "id": "ac2bacf3",
   "metadata": {},
   "source": [
    "## Colormap Time\n",
    "### with adding a layer"
   ]
  },
  {
   "cell_type": "code",
   "execution_count": 4,
   "id": "b6d75f15",
   "metadata": {},
   "outputs": [
    {
     "name": "stdout",
     "output_type": "stream",
     "text": [
      "mapping took 187.5 ms\n"
     ]
    }
   ],
   "source": [
    "starttime = time.process_time_ns()\n",
    "\n",
    "mapping_layer = viewer.add_labels(label_image,name = 'cluster id mapping')\n",
    "mapping = generate_label_to_cluster_color_mapping(\n",
    "    label_list=labels_list, \n",
    "    predictionlist= cluster_id, \n",
    "    colormap_dict= cmap_dict\n",
    ")\n",
    "mapping_layer.color = mapping\n",
    "\n",
    "endtime = time.process_time_ns()\n",
    "mapping_time = endtime - starttime\n",
    "\n",
    "print(f'mapping took {mapping_time/1_000_000} ms')"
   ]
  },
  {
   "cell_type": "code",
   "execution_count": null,
   "id": "ebb7e2c6",
   "metadata": {},
   "outputs": [],
   "source": []
  }
 ],
 "metadata": {
  "kernelspec": {
   "display_name": "Python 3 (ipykernel)",
   "language": "python",
   "name": "python3"
  },
  "language_info": {
   "codemirror_mode": {
    "name": "ipython",
    "version": 3
   },
   "file_extension": ".py",
   "mimetype": "text/x-python",
   "name": "python",
   "nbconvert_exporter": "python",
   "pygments_lexer": "ipython3",
   "version": "3.9.7"
  }
 },
 "nbformat": 4,
 "nbformat_minor": 5
}
