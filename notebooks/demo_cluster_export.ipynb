{
 "cells": [
  {
   "cell_type": "code",
   "execution_count": 12,
   "id": "e28ea1eb",
   "metadata": {},
   "outputs": [],
   "source": [
    "import napari\n",
    "from napari.layers import Points\n",
    "import numpy as np\n",
    "from napari_clusters_plotter._new_plotter_widget import _export_cluster_to_layer, PlotterWidget"
   ]
  },
  {
   "cell_type": "code",
   "execution_count": 9,
   "id": "c8eef9bc",
   "metadata": {},
   "outputs": [],
   "source": [
    "viewer = napari.Viewer(ndisplay=3)"
   ]
  },
  {
   "cell_type": "code",
   "execution_count": 13,
   "id": "57b5ae7a",
   "metadata": {},
   "outputs": [],
   "source": [
    "def create_multi_point_layer(n_samples: int = 100):\n",
    "    import pandas as pd\n",
    "\n",
    "    loc = 5\n",
    "    n_timeframes = 5\n",
    "    frame = np.arange(n_timeframes).repeat(n_samples // n_timeframes)\n",
    "    # make some random points with random  features\n",
    "    points = np.random.random((n_samples, 4))\n",
    "    points2 = np.random.random((n_samples - 1, 4))\n",
    "\n",
    "    points[:, 0] = frame\n",
    "    points2[:, 0] = frame[:-1]\n",
    "\n",
    "    features = pd.DataFrame(\n",
    "        {\n",
    "            \"frame\": frame,\n",
    "            \"feature1\": np.random.normal(size=n_samples, loc=loc),\n",
    "            \"feature2\": np.random.normal(size=n_samples, loc=loc),\n",
    "            \"feature3\": np.random.normal(size=n_samples, loc=loc),\n",
    "            \"feature4\": np.random.normal(size=n_samples, loc=loc),\n",
    "        }\n",
    "    )\n",
    "\n",
    "    features2 = pd.DataFrame(\n",
    "        {\n",
    "            \"frame\": frame[:-1],\n",
    "            \"feature2\": np.random.normal(size=n_samples - 1, loc=-loc),\n",
    "            \"feature3\": np.random.normal(size=n_samples - 1, loc=-loc),\n",
    "            \"feature4\": np.random.normal(size=n_samples - 1, loc=-loc),\n",
    "        }\n",
    "    )\n",
    "\n",
    "    layer = Points(\n",
    "        points, features=features, size=0.1, blending=\"translucent_no_depth\"\n",
    "    )\n",
    "    layer2 = Points(\n",
    "        points2,\n",
    "        features=features2,\n",
    "        size=0.1,\n",
    "        translate=(0, 0, 2),\n",
    "        blending=\"translucent_no_depth\",\n",
    "    )\n",
    "\n",
    "    return layer, layer2\n",
    "\n",
    "\n",
    "def create_multi_tracks_layer(n_samples: int = 100):\n",
    "    from napari.layers import Tracks\n",
    "\n",
    "    points1, points2 = create_multi_point_layer(n_samples=n_samples)\n",
    "\n",
    "    tracks1 = points1.data.copy()\n",
    "    tracks2 = points2.data.copy()\n",
    "\n",
    "    # insert empty track id column\n",
    "    tracks1 = np.insert(tracks1, 0, 0, axis=1)\n",
    "    tracks2 = np.insert(tracks2, 0, 0, axis=1)\n",
    "\n",
    "    for t in range(int(points1.data[:, 0].max() + 1)):\n",
    "        # set the track id for each point\n",
    "        tracks1[tracks1[:, 1] == t, 0] = np.arange(\n",
    "            len(tracks1[tracks1[:, 1] == t]), dtype=int\n",
    "        )\n",
    "\n",
    "    for t in range(int(points2.data[:, 0].max() + 1)):\n",
    "        # set the track id for each point\n",
    "        tracks2[tracks2[:, 1] == t, 0] = np.arange(\n",
    "            len(tracks2[tracks2[:, 1] == t]), dtype=int\n",
    "        )\n",
    "\n",
    "    tracks1 = Tracks(tracks1, features=points1.features, name=\"tracks1\")\n",
    "    tracks2 = Tracks(\n",
    "        tracks2, features=points2.features, name=\"tracks2\", translate=(0, 0, 2)\n",
    "    )\n",
    "\n",
    "    return tracks1, tracks2"
   ]
  },
  {
   "cell_type": "code",
   "execution_count": 14,
   "id": "73f9b34c",
   "metadata": {},
   "outputs": [],
   "source": [
    "layer1, layer2 = create_multi_tracks_layer()\n",
    "viewer.add_layer(layer1)\n",
    "viewer.add_layer(layer2)\n",
    "viewer.layers.select_all()"
   ]
  },
  {
   "cell_type": "code",
   "execution_count": 15,
   "id": "1909214b",
   "metadata": {},
   "outputs": [
    {
     "name": "stderr",
     "output_type": "stream",
     "text": [
      "c:\\Users\\Johan\\mambaforge\\envs\\clusters-plotter\\Lib\\site-packages\\biaplotter\\colormap.py:34: UserWarning: Categorical colormap detected. Setting categorical=True. If the colormap is continuous, set categorical=False explicitly.\n",
      "  warnings.warn(\n"
     ]
    },
    {
     "data": {
      "text/plain": [
       "<napari._qt.widgets.qt_viewer_dock_widget.QtViewerDockWidget at 0x1b685722dd0>"
      ]
     },
     "execution_count": 15,
     "metadata": {},
     "output_type": "execute_result"
    }
   ],
   "source": [
    "n_layers = len(viewer.layers)\n",
    "\n",
    "widget = PlotterWidget(viewer)\n",
    "viewer.window.add_dock_widget(widget, area=\"right\")"
   ]
  },
  {
   "cell_type": "code",
   "execution_count": null,
   "id": "c74f2128",
   "metadata": {},
   "outputs": [],
   "source": [
    "for layer in viewer.layers:\n",
    "    if type(layer) in widget.input_layer_types:\n",
    "        features = layer.features\n",
    "        features['MANUAL_CLUSTER_ID'] = np.random.randint(low=0, high=2, size=len(features))\n",
    "        layer.features = features\n",
    "\n",
    "widget.plot_needs_update.emit()"
   ]
  },
  {
   "cell_type": "code",
   "execution_count": null,
   "id": "0d2d5fd4",
   "metadata": {},
   "outputs": [],
   "source": [
    "widget._on_export_clusters()"
   ]
  },
  {
   "cell_type": "code",
   "execution_count": 20,
   "id": "7dda611d",
   "metadata": {},
   "outputs": [
    {
     "data": {
      "text/plain": [
       "(100, 5)"
      ]
     },
     "execution_count": 20,
     "metadata": {},
     "output_type": "execute_result"
    }
   ],
   "source": [
    "viewer.layers[0].data.shape"
   ]
  },
  {
   "cell_type": "code",
   "execution_count": null,
   "id": "8751cb4a",
   "metadata": {},
   "outputs": [],
   "source": []
  }
 ],
 "metadata": {
  "kernelspec": {
   "display_name": "clusters-plotter",
   "language": "python",
   "name": "python3"
  },
  "language_info": {
   "codemirror_mode": {
    "name": "ipython",
    "version": 3
   },
   "file_extension": ".py",
   "mimetype": "text/x-python",
   "name": "python",
   "nbconvert_exporter": "python",
   "pygments_lexer": "ipython3",
   "version": "3.11.12"
  }
 },
 "nbformat": 4,
 "nbformat_minor": 5
}
