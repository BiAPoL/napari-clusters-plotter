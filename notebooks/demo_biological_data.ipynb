{
 "cells": [
  {
   "cell_type": "code",
   "execution_count": 2,
   "metadata": {},
   "outputs": [],
   "source": [
    "import glob\n",
    "import pandas as pd\n",
    "from pathlib import Path\n",
    "import numpy as np\n",
    "from skimage import io, measure, data\n",
    "\n",
    "import napari\n",
    "from napari_clusters_plotter import PlotterWidget\n",
    "import napari_segment_blobs_and_things_with_membranes as nsbatwm"
   ]
  },
  {
   "cell_type": "code",
   "execution_count": 3,
   "metadata": {},
   "outputs": [
    {
     "name": "stderr",
     "output_type": "stream",
     "text": [
      "napari.manifest -> 'napari-vedo-bridge' could not be imported: The name field in the manifest ('napari-clusters-plotter') must match the package name ('napari-vedo-bridge')\n"
     ]
    },
    {
     "name": "stdout",
     "output_type": "stream",
     "text": [
      "Assistant skips harvesting pyclesperanto as it's not installed.\n"
     ]
    }
   ],
   "source": [
    "viewer = napari.Viewer()"
   ]
  },
  {
   "cell_type": "code",
   "execution_count": 4,
   "metadata": {},
   "outputs": [],
   "source": [
    "root = r'./data'\n",
    "image_files = glob.glob(r'E:\\BiAPoL\\Projects\\napari-clusters-plotter\\notebooks\\data\\**\\**\\*.tif')"
   ]
  },
  {
   "cell_type": "code",
   "execution_count": 5,
   "metadata": {},
   "outputs": [],
   "source": [
    "features = [\n",
    "    'label',\n",
    "    'area_filled',\n",
    "    'perimeter',\n",
    "    'axis_major_length',\n",
    "    'axis_minor_length',\n",
    "    'eccentricity',\n",
    "    'area',\n",
    "    'intensity_mean',\n",
    "    'intensity_max',\n",
    "    'intensity_min',\n",
    "    'intensity_std',\n",
    "]"
   ]
  },
  {
   "cell_type": "code",
   "execution_count": 6,
   "metadata": {},
   "outputs": [],
   "source": [
    "# calculate positions of images on grid\n",
    "n_cols = np.sqrt(len(image_files))\n",
    "n_rows = np.ceil(len(image_files) / n_cols)\n",
    "\n",
    "spacing = 500\n",
    "image_layers = []\n",
    "labels_layers = []\n",
    "\n",
    "for i, image_file in enumerate(image_files):\n",
    "    row = i // n_cols\n",
    "    col = i % n_cols\n",
    "    image = io.imread(image_file)\n",
    "\n",
    "    if len(image.shape) > 2:\n",
    "        image = image[:, :, 0]\n",
    "\n",
    "    # segmentation\n",
    "    labels = np.asarray(nsbatwm.voronoi_otsu_labeling(image, spot_sigma=5))\n",
    "\n",
    "    # measurements\n",
    "    features = pd.DataFrame(measure.regionprops_table(labels, intensity_image=image, properties=features))\n",
    "\n",
    "    image_layer = napari.layers.Image(data=image, name=Path(image_file).stem, translate=[spacing * col, spacing * row])\n",
    "    labels_layer = napari.layers.Labels(data=labels, name=Path(image_file).stem + '_labels',\n",
    "                                        translate=[spacing * col, spacing * row], features=features)\n",
    "    \n",
    "    image_layers.append(image_layer)\n",
    "    labels_layers.append(labels_layer)"
   ]
  },
  {
   "cell_type": "code",
   "execution_count": 7,
   "metadata": {},
   "outputs": [],
   "source": [
    "viewer.layers.clear()\n",
    "for layer in image_layers:\n",
    "    viewer.add_layer(layer)\n",
    "\n",
    "for layer in labels_layers:\n",
    "    viewer.add_layer(layer)"
   ]
  },
  {
   "cell_type": "code",
   "execution_count": 25,
   "metadata": {},
   "outputs": [
    {
     "name": "stderr",
     "output_type": "stream",
     "text": [
      "c:\\Users\\johan\\mambaforge\\envs\\clusters-plotter\\lib\\site-packages\\napari_matplotlib\\base.py:46: FutureWarning: The `as_dict` kwarg has been deprecated since Napari 0.5.0 and will be removed in future version. You can use `get_theme(...).to_rgb_dict()`\n",
      "  get_theme(napari_viewer.theme, as_dict=False)\n",
      "c:\\Users\\johan\\mambaforge\\envs\\clusters-plotter\\lib\\site-packages\\napari_matplotlib\\base.py:101: FutureWarning: The `as_dict` kwarg has been deprecated since Napari 0.5.0 and will be removed in future version. You can use `get_theme(...).to_rgb_dict()`\n",
      "  theme = napari.utils.theme.get_theme(self.viewer.theme, as_dict=False)\n"
     ]
    },
    {
     "data": {
      "text/plain": [
       "<napari._qt.widgets.qt_viewer_dock_widget.QtViewerDockWidget at 0x1ec9acb4790>"
      ]
     },
     "execution_count": 25,
     "metadata": {},
     "output_type": "execute_result"
    }
   ],
   "source": [
    "plotter_widget = PlotterWidget(viewer)\n",
    "viewer.window.add_dock_widget(plotter_widget, area='right')"
   ]
  },
  {
   "cell_type": "code",
   "execution_count": null,
   "metadata": {},
   "outputs": [],
   "source": []
  },
  {
   "cell_type": "code",
   "execution_count": 1,
   "metadata": {},
   "outputs": [],
   "source": [
    "from skimage import data, measure\n",
    "import napari_segment_blobs_and_things_with_membranes as nsbatwm\n",
    "import pandas as pd\n",
    "\n",
    "image = data.human_mitosis()\n",
    "labels = nsbatwm.voronoi_otsu_labeling(image, spot_sigma=5)\n",
    "measurements = pd.DataFrame(measure.regionprops_table(labels, intensity_image=image, properties=['label', 'area']))"
   ]
  },
  {
   "cell_type": "code",
   "execution_count": null,
   "metadata": {},
   "outputs": [],
   "source": []
  }
 ],
 "metadata": {
  "kernelspec": {
   "display_name": "clusters-plotter",
   "language": "python",
   "name": "python3"
  },
  "language_info": {
   "codemirror_mode": {
    "name": "ipython",
    "version": 3
   },
   "file_extension": ".py",
   "mimetype": "text/x-python",
   "name": "python",
   "nbconvert_exporter": "python",
   "pygments_lexer": "ipython3",
   "version": "3.9.19"
  }
 },
 "nbformat": 4,
 "nbformat_minor": 2
}
