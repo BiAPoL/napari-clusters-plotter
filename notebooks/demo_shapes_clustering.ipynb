{
 "cells": [
  {
   "cell_type": "code",
   "execution_count": 1,
   "metadata": {},
   "outputs": [],
   "source": [
    "import glob\n",
    "import pandas as pd\n",
    "from pathlib import Path\n",
    "import numpy as np\n",
    "from skimage import io, measure\n",
    "\n",
    "import napari\n",
    "import napari_clusters_plotter as ncp\n",
    "import napari_segment_blobs_and_things_with_membranes as nsbatwm"
   ]
  },
  {
   "cell_type": "code",
   "execution_count": 2,
   "metadata": {},
   "outputs": [
    {
     "name": "stderr",
     "output_type": "stream",
     "text": [
      "napari.manifest -> 'napari-vedo-bridge' could not be imported: The name field in the manifest ('napari-clusters-plotter') must match the package name ('napari-vedo-bridge')\n"
     ]
    },
    {
     "name": "stdout",
     "output_type": "stream",
     "text": [
      "Assistant skips harvesting pyclesperanto as it's not installed.\n"
     ]
    }
   ],
   "source": [
    "viewer = napari.Viewer()"
   ]
  },
  {
   "cell_type": "code",
   "execution_count": 3,
   "metadata": {},
   "outputs": [],
   "source": [
    "# random centers\n",
    "box_centers = np.random.random((20, 2)) * 1000\n",
    "box_widths = np.random.random((20)) * 100\n",
    "box_heights = np.random.random((20)) * 100\n",
    "features = pd.DataFrame({'box_widths': box_widths, 'box_heights': box_heights})\n",
    "features['area'] = features['box_widths'] * features['box_heights']\n",
    "\n",
    "boxes = []\n",
    "\n",
    "for i in range(20):\n",
    "    corners = np.array([[box_centers[i, 0] - box_widths[i] / 2, box_centers[i, 1] - box_heights[i] / 2],\n",
    "                            [box_centers[i, 0] + box_widths[i] / 2, box_centers[i, 1] - box_heights[i] / 2],\n",
    "                            [box_centers[i, 0] + box_widths[i] / 2, box_centers[i, 1] + box_heights[i] / 2],\n",
    "                            [box_centers[i, 0] - box_widths[i] / 2, box_centers[i, 1] + box_heights[i] / 2]])\n",
    "    boxes.append(corners)"
   ]
  },
  {
   "cell_type": "code",
   "execution_count": 4,
   "metadata": {},
   "outputs": [
    {
     "data": {
      "text/plain": [
       "<Shapes layer 'boxes' at 0x29d9bb6e430>"
      ]
     },
     "execution_count": 4,
     "metadata": {},
     "output_type": "execute_result"
    }
   ],
   "source": [
    "viewer.layers.clear()\n",
    "viewer.add_shapes(boxes, shape_type='polygon', edge_color='blue', face_color='area', opacity=0.6, features=features)"
   ]
  },
  {
   "cell_type": "code",
   "execution_count": 5,
   "metadata": {},
   "outputs": [
    {
     "data": {
      "text/plain": [
       "<napari._qt.widgets.qt_viewer_dock_widget.QtViewerDockWidget at 0x29d9e9f8310>"
      ]
     },
     "execution_count": 5,
     "metadata": {},
     "output_type": "execute_result"
    }
   ],
   "source": [
    "plotter_widget = ncp.PlotterWidget(viewer)\n",
    "viewer.window.add_dock_widget(plotter_widget, area='right')"
   ]
  },
  {
   "cell_type": "code",
   "execution_count": null,
   "metadata": {},
   "outputs": [],
   "source": []
  }
 ],
 "metadata": {
  "kernelspec": {
   "display_name": "clusters-plotter",
   "language": "python",
   "name": "python3"
  },
  "language_info": {
   "codemirror_mode": {
    "name": "ipython",
    "version": 3
   },
   "file_extension": ".py",
   "mimetype": "text/x-python",
   "name": "python",
   "nbconvert_exporter": "python",
   "pygments_lexer": "ipython3",
   "version": "3.9.19"
  }
 },
 "nbformat": 4,
 "nbformat_minor": 2
}
