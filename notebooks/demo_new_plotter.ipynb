{
 "cells": [
  {
   "cell_type": "code",
   "execution_count": 1,
   "metadata": {},
   "outputs": [],
   "source": [
    "import napari\n",
    "from napari_clusters_plotter._new_plotter_widget import PlotterWidget\n",
    "\n",
    "from skimage import morphology, measure, data\n",
    "import numpy as np\n",
    "import pandas as pd"
   ]
  },
  {
   "cell_type": "code",
   "execution_count": 2,
   "metadata": {},
   "outputs": [
    {
     "name": "stderr",
     "output_type": "stream",
     "text": [
      "napari.manifest -> 'napari-vedo-bridge' could not be imported: The name field in the manifest ('napari-clusters-plotter') must match the package name ('napari-vedo-bridge')\n"
     ]
    }
   ],
   "source": [
    "viewer = napari.Viewer()"
   ]
  },
  {
   "cell_type": "markdown",
   "metadata": {},
   "source": [
    "## Points demo"
   ]
  },
  {
   "cell_type": "code",
   "execution_count": 3,
   "metadata": {},
   "outputs": [
    {
     "data": {
      "text/plain": [
       "<Points layer 'points2' at 0x204f46b5c10>"
      ]
     },
     "execution_count": 3,
     "metadata": {},
     "output_type": "execute_result"
    }
   ],
   "source": [
    "viewer.layers.clear()\n",
    "\n",
    "n_samples = 100\n",
    "loc = 5\n",
    "n_timeframes = 5\n",
    "frame = np.arange(n_timeframes).repeat(n_samples//n_timeframes)\n",
    "# make some random points with random  features\n",
    "points = np.random.random((n_samples, 4))\n",
    "points2 = np.random.random((n_samples, 4))\n",
    "\n",
    "points[:, 0] = frame\n",
    "points2[:, 0] = frame\n",
    "\n",
    "features = pd.DataFrame({\n",
    "    'frame': frame,\n",
    "    'feature1': np.random.normal(size=n_samples, loc=loc),\n",
    "    'feature2': np.random.normal(size=n_samples, loc=loc),\n",
    "    'feature3': np.random.normal(size=n_samples, loc=loc),\n",
    "    'feature4': np.random.normal(size=n_samples, loc=loc),})\n",
    "\n",
    "features2 = pd.DataFrame({\n",
    "    'frame': frame,\n",
    "    'feature2': np.random.normal(size=n_samples, loc=-loc),\n",
    "    'feature3': np.random.normal(size=n_samples, loc=-loc),\n",
    "    'feature4': np.random.normal(size=n_samples, loc=-loc),})\n",
    "\n",
    "layer = napari.layers.Points(points, features=features, size=0.1, blending='translucent_no_depth')\n",
    "layer2 = napari.layers.Points(points2, features=features2, size=0.1, translate=(0, 0, 2), blending='translucent_no_depth')\n",
    "viewer.add_layer(layer)\n",
    "viewer.add_layer(layer2)\n"
   ]
  },
  {
   "cell_type": "code",
   "execution_count": 4,
   "metadata": {},
   "outputs": [
    {
     "name": "stderr",
     "output_type": "stream",
     "text": [
      "c:\\Users\\johan\\mambaforge\\envs\\clusters-plotter\\lib\\site-packages\\napari_matplotlib\\base.py:46: FutureWarning: The `as_dict` kwarg has been deprecated since Napari 0.5.0 and will be removed in future version. You can use `get_theme(...).to_rgb_dict()`\n",
      "  get_theme(napari_viewer.theme, as_dict=False)\n",
      "c:\\Users\\johan\\mambaforge\\envs\\clusters-plotter\\lib\\site-packages\\napari_matplotlib\\base.py:101: FutureWarning: The `as_dict` kwarg has been deprecated since Napari 0.5.0 and will be removed in future version. You can use `get_theme(...).to_rgb_dict()`\n",
      "  theme = napari.utils.theme.get_theme(self.viewer.theme, as_dict=False)\n"
     ]
    },
    {
     "data": {
      "text/plain": [
       "<napari._qt.widgets.qt_viewer_dock_widget.QtViewerDockWidget at 0x2049456d3a0>"
      ]
     },
     "execution_count": 4,
     "metadata": {},
     "output_type": "execute_result"
    }
   ],
   "source": [
    "plotter_widget = PlotterWidget(viewer)\n",
    "viewer.window.add_dock_widget(plotter_widget, area='right')"
   ]
  },
  {
   "cell_type": "code",
   "execution_count": 6,
   "metadata": {},
   "outputs": [
    {
     "data": {
      "text/html": [
       "<div>\n",
       "<style scoped>\n",
       "    .dataframe tbody tr th:only-of-type {\n",
       "        vertical-align: middle;\n",
       "    }\n",
       "\n",
       "    .dataframe tbody tr th {\n",
       "        vertical-align: top;\n",
       "    }\n",
       "\n",
       "    .dataframe thead th {\n",
       "        text-align: right;\n",
       "    }\n",
       "</style>\n",
       "<table border=\"1\" class=\"dataframe\">\n",
       "  <thead>\n",
       "    <tr style=\"text-align: right;\">\n",
       "      <th></th>\n",
       "      <th>feature3</th>\n",
       "      <th>feature2</th>\n",
       "      <th>feature4</th>\n",
       "      <th>layer</th>\n",
       "    </tr>\n",
       "  </thead>\n",
       "  <tbody>\n",
       "    <tr>\n",
       "      <th>0</th>\n",
       "      <td>4.310577</td>\n",
       "      <td>4.151826</td>\n",
       "      <td>7.040538</td>\n",
       "      <td>points</td>\n",
       "    </tr>\n",
       "    <tr>\n",
       "      <th>1</th>\n",
       "      <td>5.776389</td>\n",
       "      <td>5.125504</td>\n",
       "      <td>5.937103</td>\n",
       "      <td>points</td>\n",
       "    </tr>\n",
       "    <tr>\n",
       "      <th>2</th>\n",
       "      <td>7.000484</td>\n",
       "      <td>5.524941</td>\n",
       "      <td>4.011762</td>\n",
       "      <td>points</td>\n",
       "    </tr>\n",
       "    <tr>\n",
       "      <th>3</th>\n",
       "      <td>5.182016</td>\n",
       "      <td>4.866394</td>\n",
       "      <td>5.799276</td>\n",
       "      <td>points</td>\n",
       "    </tr>\n",
       "    <tr>\n",
       "      <th>4</th>\n",
       "      <td>5.402926</td>\n",
       "      <td>5.967838</td>\n",
       "      <td>5.933521</td>\n",
       "      <td>points</td>\n",
       "    </tr>\n",
       "    <tr>\n",
       "      <th>...</th>\n",
       "      <td>...</td>\n",
       "      <td>...</td>\n",
       "      <td>...</td>\n",
       "      <td>...</td>\n",
       "    </tr>\n",
       "    <tr>\n",
       "      <th>195</th>\n",
       "      <td>-6.577565</td>\n",
       "      <td>-4.492556</td>\n",
       "      <td>-3.971916</td>\n",
       "      <td>points2</td>\n",
       "    </tr>\n",
       "    <tr>\n",
       "      <th>196</th>\n",
       "      <td>-4.782194</td>\n",
       "      <td>-6.170168</td>\n",
       "      <td>-4.662838</td>\n",
       "      <td>points2</td>\n",
       "    </tr>\n",
       "    <tr>\n",
       "      <th>197</th>\n",
       "      <td>-5.848882</td>\n",
       "      <td>-5.101038</td>\n",
       "      <td>-5.075573</td>\n",
       "      <td>points2</td>\n",
       "    </tr>\n",
       "    <tr>\n",
       "      <th>198</th>\n",
       "      <td>-6.524426</td>\n",
       "      <td>-5.670933</td>\n",
       "      <td>-7.476590</td>\n",
       "      <td>points2</td>\n",
       "    </tr>\n",
       "    <tr>\n",
       "      <th>199</th>\n",
       "      <td>-6.907373</td>\n",
       "      <td>-5.843320</td>\n",
       "      <td>-4.927803</td>\n",
       "      <td>points2</td>\n",
       "    </tr>\n",
       "  </tbody>\n",
       "</table>\n",
       "<p>200 rows × 4 columns</p>\n",
       "</div>"
      ],
      "text/plain": [
       "     feature3  feature2  feature4    layer\n",
       "0    4.310577  4.151826  7.040538   points\n",
       "1    5.776389  5.125504  5.937103   points\n",
       "2    7.000484  5.524941  4.011762   points\n",
       "3    5.182016  4.866394  5.799276   points\n",
       "4    5.402926  5.967838  5.933521   points\n",
       "..        ...       ...       ...      ...\n",
       "195 -6.577565 -4.492556 -3.971916  points2\n",
       "196 -4.782194 -6.170168 -4.662838  points2\n",
       "197 -5.848882 -5.101038 -5.075573  points2\n",
       "198 -6.524426 -5.670933 -7.476590  points2\n",
       "199 -6.907373 -5.843320 -4.927803  points2\n",
       "\n",
       "[200 rows x 4 columns]"
      ]
     },
     "execution_count": 6,
     "metadata": {},
     "output_type": "execute_result"
    }
   ],
   "source": [
    "plotter_widget._get_features()"
   ]
  },
  {
   "cell_type": "markdown",
   "metadata": {},
   "source": [
    "## Surface demo"
   ]
  },
  {
   "cell_type": "code",
   "execution_count": 5,
   "metadata": {},
   "outputs": [],
   "source": [
    "faces = np.random.randint(0, 100, (100, 3))\n",
    "\n",
    "surface_layer = viewer.add_surface((points, faces), name='surface')\n",
    "surface_layer.features = features"
   ]
  },
  {
   "cell_type": "markdown",
   "metadata": {},
   "source": [
    "## Labels demo"
   ]
  },
  {
   "cell_type": "code",
   "execution_count": 6,
   "metadata": {},
   "outputs": [
    {
     "name": "stderr",
     "output_type": "stream",
     "text": [
      "c:\\Users\\johan\\mambaforge\\envs\\clusters-plotter\\lib\\site-packages\\napari\\utils\\colormaps\\colormap.py:435: UserWarning: color_dict did not provide a default color. Missing keys will be transparent. To provide a default color, use the key `None`, or provide a defaultdict instance.\n",
      "  warn(\n",
      "c:\\Users\\johan\\mambaforge\\envs\\clusters-plotter\\lib\\site-packages\\napari\\utils\\colormaps\\colormap.py:435: UserWarning: color_dict did not provide a default color. Missing keys will be transparent. To provide a default color, use the key `None`, or provide a defaultdict instance.\n",
      "  warn(\n"
     ]
    },
    {
     "data": {
      "text/plain": [
       "<Labels layer 'labels' at 0x2561e0cf6a0>"
      ]
     },
     "execution_count": 6,
     "metadata": {},
     "output_type": "execute_result"
    }
   ],
   "source": [
    "binary_image = data.binary_blobs(length=128, n_dim=3, volume_fraction=0.1)\n",
    "label_image = measure.label(binary_image)\n",
    "features = pd.DataFrame({\n",
    "    'feature1': np.random.random(label_image.max() + 1),\n",
    "    'feature2': np.random.random(label_image.max() + 1),\n",
    "    'feature3': np.random.random(label_image.max() + 1),\n",
    "})\n",
    "\n",
    "viewer.add_labels(label_image, name='labels', features=features)"
   ]
  },
  {
   "cell_type": "markdown",
   "metadata": {},
   "source": [
    "## Vectors demo"
   ]
  },
  {
   "cell_type": "code",
   "execution_count": 10,
   "metadata": {},
   "outputs": [
    {
     "data": {
      "text/plain": [
       "<Vectors layer 'vectors' at 0x25615ce42e0>"
      ]
     },
     "execution_count": 10,
     "metadata": {},
     "output_type": "execute_result"
    }
   ],
   "source": [
    "points_direction = np.random.normal(size=points.shape) * 100\n",
    "vectors = np.stack([points*100, points_direction], axis=1)\n",
    "\n",
    "viewer.add_vectors(vectors, name='vectors', features=features, vector_style='arrow')"
   ]
  },
  {
   "cell_type": "code",
   "execution_count": null,
   "metadata": {},
   "outputs": [],
   "source": []
  }
 ],
 "metadata": {
  "kernelspec": {
   "display_name": "clusters-plotter",
   "language": "python",
   "name": "python3"
  },
  "language_info": {
   "codemirror_mode": {
    "name": "ipython",
    "version": 3
   },
   "file_extension": ".py",
   "mimetype": "text/x-python",
   "name": "python",
   "nbconvert_exporter": "python",
   "pygments_lexer": "ipython3",
   "version": "3.9.19"
  }
 },
 "nbformat": 4,
 "nbformat_minor": 2
}
