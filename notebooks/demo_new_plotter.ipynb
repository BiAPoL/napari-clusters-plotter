{
 "cells": [
  {
   "cell_type": "code",
   "execution_count": 1,
   "metadata": {},
   "outputs": [],
   "source": [
    "import napari\n",
    "from napari_clusters_plotter._new_plotter_widget import PlotterWidget\n",
    "\n",
    "from skimage import morphology, measure, data\n",
    "import numpy as np\n",
    "import pandas as pd"
   ]
  },
  {
   "cell_type": "code",
   "execution_count": 2,
   "metadata": {},
   "outputs": [
    {
     "name": "stderr",
     "output_type": "stream",
     "text": [
      "WARNING: QWindowsWindow::setGeometry: Unable to set geometry 3440x1377+640+280 (frame: 3456x1416+632+249) on QWidgetWindow/\"_QtMainWindowClassWindow\" on \"\\\\.\\DISPLAY1\". Resulting geometry: 1924x1061+640+280 (frame: 1940x1100+632+249) margins: 8, 31, 8, 8 minimum size: 385x501 MINMAXINFO(maxSize=POINT(x=0, y=0), maxpos=POINT(x=0, y=0), maxtrack=POINT(x=0, y=0), mintrack=POINT(x=401, y=540)))\n"
     ]
    }
   ],
   "source": [
    "viewer = napari.Viewer()"
   ]
  },
  {
   "cell_type": "markdown",
   "metadata": {},
   "source": [
    "## Points demo"
   ]
  },
  {
   "cell_type": "code",
   "execution_count": 3,
   "metadata": {},
   "outputs": [
    {
     "data": {
      "text/plain": [
       "<Points layer 'points2' at 0x2655e1294f0>"
      ]
     },
     "execution_count": 3,
     "metadata": {},
     "output_type": "execute_result"
    }
   ],
   "source": [
    "viewer.layers.clear()\n",
    "\n",
    "n_samples = 100\n",
    "loc = 5\n",
    "n_timeframes = 5\n",
    "frame = np.arange(n_timeframes).repeat(n_samples//n_timeframes)\n",
    "# make some random points with random  features\n",
    "points = np.random.random((n_samples, 4))\n",
    "points2 = np.random.random((n_samples-1, 4))\n",
    "\n",
    "points[:, 0] = frame\n",
    "points2[:, 0] = frame[:-1]\n",
    "\n",
    "features = pd.DataFrame({\n",
    "    'frame': frame,\n",
    "    'feature1': np.random.normal(size=n_samples, loc=loc),\n",
    "    'feature2': np.random.normal(size=n_samples, loc=loc),\n",
    "    'feature3': np.random.normal(size=n_samples, loc=loc),\n",
    "    'feature4': np.random.normal(size=n_samples, loc=loc),})\n",
    "\n",
    "features2 = pd.DataFrame({\n",
    "    'frame': frame[:-1],\n",
    "    'feature2': np.random.normal(size=n_samples-1, loc=-loc),\n",
    "    'feature3': np.random.normal(size=n_samples-1, loc=-loc),\n",
    "    'feature4': np.random.normal(size=n_samples-1, loc=-loc),})\n",
    "\n",
    "layer = napari.layers.Points(points, features=features, size=0.1, blending='translucent_no_depth')\n",
    "layer2 = napari.layers.Points(points2, features=features2, size=0.1, translate=(0, 0, 2), blending='translucent_no_depth')\n",
    "viewer.layers.clear()\n",
    "viewer.add_layer(layer)\n",
    "viewer.add_layer(layer2)\n"
   ]
  },
  {
   "cell_type": "code",
   "execution_count": 4,
   "metadata": {},
   "outputs": [
    {
     "name": "stderr",
     "output_type": "stream",
     "text": [
      "c:\\Users\\johamuel\\AppData\\Local\\miniforge3\\envs\\clusters-plotter\\Lib\\site-packages\\biaplotter\\colormap.py:34: UserWarning: Categorical colormap detected. Setting categorical=True. If the colormap is continuous, set categorical=False explicitly.\n",
      "  warnings.warn(\n"
     ]
    },
    {
     "data": {
      "text/plain": [
       "<napari._qt.widgets.qt_viewer_dock_widget.QtViewerDockWidget at 0x2656185ccd0>"
      ]
     },
     "execution_count": 4,
     "metadata": {},
     "output_type": "execute_result"
    }
   ],
   "source": [
    "plotter_widget = PlotterWidget(viewer)\n",
    "viewer.window.add_dock_widget(plotter_widget, area='right')"
   ]
  },
  {
   "cell_type": "markdown",
   "metadata": {},
   "source": [
    "## Surface demo"
   ]
  },
  {
   "cell_type": "code",
   "execution_count": 5,
   "metadata": {},
   "outputs": [],
   "source": [
    "faces = np.random.randint(0, 100, (100, 3))\n",
    "\n",
    "surface_layer = viewer.add_surface((points, faces), name='surface')\n",
    "surface_layer.features = features"
   ]
  },
  {
   "cell_type": "markdown",
   "metadata": {},
   "source": [
    "## Labels demo"
   ]
  },
  {
   "cell_type": "code",
   "execution_count": 6,
   "metadata": {},
   "outputs": [
    {
     "name": "stderr",
     "output_type": "stream",
     "text": [
      "c:\\Users\\johan\\mambaforge\\envs\\clusters-plotter\\lib\\site-packages\\napari\\utils\\colormaps\\colormap.py:435: UserWarning: color_dict did not provide a default color. Missing keys will be transparent. To provide a default color, use the key `None`, or provide a defaultdict instance.\n",
      "  warn(\n",
      "c:\\Users\\johan\\mambaforge\\envs\\clusters-plotter\\lib\\site-packages\\napari\\utils\\colormaps\\colormap.py:435: UserWarning: color_dict did not provide a default color. Missing keys will be transparent. To provide a default color, use the key `None`, or provide a defaultdict instance.\n",
      "  warn(\n"
     ]
    },
    {
     "data": {
      "text/plain": [
       "<Labels layer 'labels' at 0x2561e0cf6a0>"
      ]
     },
     "execution_count": 6,
     "metadata": {},
     "output_type": "execute_result"
    }
   ],
   "source": [
    "binary_image = data.binary_blobs(length=128, n_dim=3, volume_fraction=0.1)\n",
    "label_image = measure.label(binary_image)\n",
    "features = pd.DataFrame({\n",
    "    'feature1': np.random.random(label_image.max() + 1),\n",
    "    'feature2': np.random.random(label_image.max() + 1),\n",
    "    'feature3': np.random.random(label_image.max() + 1),\n",
    "})\n",
    "\n",
    "viewer.add_labels(label_image, name='labels', features=features)"
   ]
  },
  {
   "cell_type": "markdown",
   "metadata": {},
   "source": [
    "## Vectors demo"
   ]
  },
  {
   "cell_type": "code",
   "execution_count": 10,
   "metadata": {},
   "outputs": [
    {
     "data": {
      "text/plain": [
       "<Vectors layer 'vectors' at 0x25615ce42e0>"
      ]
     },
     "execution_count": 10,
     "metadata": {},
     "output_type": "execute_result"
    }
   ],
   "source": [
    "points_direction = np.random.normal(size=points.shape) * 100\n",
    "vectors = np.stack([points*100, points_direction], axis=1)\n",
    "\n",
    "viewer.add_vectors(vectors, name='vectors', features=features, vector_style='arrow')"
   ]
  },
  {
   "cell_type": "code",
   "execution_count": null,
   "metadata": {},
   "outputs": [],
   "source": []
  }
 ],
 "metadata": {
  "kernelspec": {
   "display_name": "clusters-plotter",
   "language": "python",
   "name": "python3"
  },
  "language_info": {
   "codemirror_mode": {
    "name": "ipython",
    "version": 3
   },
   "file_extension": ".py",
   "mimetype": "text/x-python",
   "name": "python",
   "nbconvert_exporter": "python",
   "pygments_lexer": "ipython3",
   "version": "3.12.9"
  }
 },
 "nbformat": 4,
 "nbformat_minor": 2
}
