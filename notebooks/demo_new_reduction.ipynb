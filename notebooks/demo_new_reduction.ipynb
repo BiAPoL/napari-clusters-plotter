{
 "cells": [
  {
   "cell_type": "code",
   "execution_count": 1,
   "metadata": {},
   "outputs": [],
   "source": [
    "from napari_clusters_plotter._new_plotter_widget import PlotterWidget\n",
    "from napari_clusters_plotter._dimensionality_reduction_new import DimensionalityReductionWidget\n",
    "import napari\n",
    "import numpy as np\n",
    "from napari.layers import Points\n",
    "\n",
    "from skimage import data, measure\n",
    "\n",
    "import pandas as pd"
   ]
  },
  {
   "cell_type": "code",
   "execution_count": 2,
   "metadata": {},
   "outputs": [
    {
     "name": "stderr",
     "output_type": "stream",
     "text": [
      "napari.manifest -> 'napari-clusters-plotter' could not be imported: Could not find file 'napari.yaml' in module 'napari_clusters_plotter'\n",
      "napari.manifest -> 'napari-vedo-bridge' could not be imported: Could not find file 'napari.yaml' in module 'napari_clusters_plotter'\n"
     ]
    }
   ],
   "source": [
    "viewer =  napari.Viewer()"
   ]
  },
  {
   "cell_type": "code",
   "execution_count": 10,
   "metadata": {},
   "outputs": [
    {
     "data": {
      "text/plain": [
       "<Points layer 'points2' at 0x1e862f261c0>"
      ]
     },
     "execution_count": 10,
     "metadata": {},
     "output_type": "execute_result"
    }
   ],
   "source": [
    "n_samples = 100\n",
    "loc = 5\n",
    "points1 = np.random.random((n_samples, 3))\n",
    "points2 = np.random.random((n_samples, 3))\n",
    "\n",
    "features1 = pd.DataFrame({'feature1': np.random.normal(size=n_samples, loc=loc),\n",
    "                         'feature2': np.random.normal(size=n_samples, loc=loc),\n",
    "                         'feature3': np.random.normal(size=n_samples, loc=loc),\n",
    "                         'feature4': np.random.normal(size=n_samples, loc=loc),})\n",
    "\n",
    "features2 = pd.DataFrame({'feature1': np.random.normal(size=n_samples, loc=-loc),\n",
    "                            'feature3': np.random.normal(size=n_samples, loc=-loc),\n",
    "                            'feature4': np.random.normal(size=n_samples, loc=-loc),})\n",
    "\n",
    "layer1 = Points(points1, features=features1, size=0.1)\n",
    "layer2 = Points(points2, features=features2, size=0.1)\n",
    "viewer.add_layer(layer1)\n",
    "viewer.add_layer(layer2)"
   ]
  },
  {
   "cell_type": "code",
   "execution_count": null,
   "metadata": {},
   "outputs": [],
   "source": [
    "plotter_widget = PlotterWidget(viewer)\n",
    "viewer.window.add_dock_widget(plotter_widget, area=\"right\")\n",
    "\n",
    "reduce_widget = DimensionalityReductionWidget(viewer)\n",
    "viewer.window.add_dock_widget(reduce_widget, area=\"right\")"
   ]
  },
  {
   "cell_type": "code",
   "execution_count": 5,
   "metadata": {},
   "outputs": [
    {
     "data": {
      "text/plain": [
       "<Labels layer 'blobs' at 0x2a038c45a60>"
      ]
     },
     "execution_count": 5,
     "metadata": {},
     "output_type": "execute_result"
    }
   ],
   "source": [
    "binary_image  = data.binary_blobs(length=128, volume_fraction=0.1, n_dim=3)\n",
    "label_image = measure.label(binary_image)\n",
    "\n",
    "features = pd.DataFrame(measure.regionprops_table(label_image, properties=(\"label\", \"centroid\", \"area\")))\n",
    "\n",
    "viewer.add_labels(label_image, features=features, name=\"blobs\")"
   ]
  },
  {
   "cell_type": "code",
   "execution_count": null,
   "metadata": {},
   "outputs": [],
   "source": []
  }
 ],
 "metadata": {
  "kernelspec": {
   "display_name": "clusters-plotter",
   "language": "python",
   "name": "python3"
  },
  "language_info": {
   "codemirror_mode": {
    "name": "ipython",
    "version": 3
   },
   "file_extension": ".py",
   "mimetype": "text/x-python",
   "name": "python",
   "nbconvert_exporter": "python",
   "pygments_lexer": "ipython3",
   "version": "3.9.19"
  }
 },
 "nbformat": 4,
 "nbformat_minor": 2
}
