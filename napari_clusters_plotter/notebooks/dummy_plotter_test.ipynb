{
 "cells": [
  {
   "cell_type": "code",
   "execution_count": 1,
   "metadata": {},
   "outputs": [],
   "source": [
    "import napari\n",
    "import numpy as np\n",
    "from napari_clusters_plotter.new_plotter_widget import PlotterWidget\n",
    "from skimage.measure import regionprops\n",
    "import pandas as pd"
   ]
  },
  {
   "cell_type": "code",
   "execution_count": 2,
   "metadata": {},
   "outputs": [
    {
     "name": "stderr",
     "output_type": "stream",
     "text": [
      "WARNING: QWindowsWindow::setGeometry: Unable to set geometry 3258x1965+876+783 (frame: 3290x2053+860+711) on QWidgetWindow/\"_QtMainWindowClassWindow\" on \"\\\\.\\DISPLAY1\". Resulting geometry: 7284x2108+884+824 (frame: 7316x2196+868+752) margins: 16, 72, 16, 16 minimum size: 385x494 MINMAXINFO maxSize=0,0 maxpos=0,0 mintrack=1187,1570 maxtrack=0,0)\n",
      "WARNING: QWindowsWindow::setGeometry: Unable to set geometry 6180x2517+885+825 (frame: 6212x2605+869+753) on QWidgetWindow/\"_QtMainWindowClassWindow\" on \"\\\\.\\DISPLAY1\". Resulting geometry: 6180x2108+885+825 (frame: 6212x2196+869+753) margins: 16, 72, 16, 16 minimum size: 385x494 MINMAXINFO maxSize=0,0 maxpos=0,0 mintrack=1187,1570 maxtrack=0,0)\n"
     ]
    },
    {
     "ename": "UnboundLocalError",
     "evalue": "local variable 'active_artist_type' referenced before assignment",
     "output_type": "error",
     "traceback": [
      "\u001b[1;31m---------------------------------------------------------------------------\u001b[0m",
      "\u001b[1;31mUnboundLocalError\u001b[0m                         Traceback (most recent call last)",
      "Cell \u001b[1;32mIn[2], line 2\u001b[0m\n\u001b[0;32m      1\u001b[0m viewer \u001b[38;5;241m=\u001b[39m napari\u001b[38;5;241m.\u001b[39mViewer()\n\u001b[1;32m----> 2\u001b[0m plotter \u001b[38;5;241m=\u001b[39m \u001b[43mPlotterWidget\u001b[49m\u001b[43m(\u001b[49m\u001b[43mviewer\u001b[49m\u001b[43m)\u001b[49m\n\u001b[0;32m      4\u001b[0m \u001b[38;5;66;03m# Generating the original image with random values\u001b[39;00m\n\u001b[0;32m      5\u001b[0m original_image \u001b[38;5;241m=\u001b[39m np\u001b[38;5;241m.\u001b[39mrandom\u001b[38;5;241m.\u001b[39mrandint(\u001b[38;5;241m0\u001b[39m, \u001b[38;5;241m100\u001b[39m, size\u001b[38;5;241m=\u001b[39m(\u001b[38;5;241m5\u001b[39m, \u001b[38;5;241m20\u001b[39m, \u001b[38;5;241m20\u001b[39m))\u001b[38;5;241m.\u001b[39mreshape(\u001b[38;5;241m5\u001b[39m, \u001b[38;5;241m1\u001b[39m, \u001b[38;5;241m20\u001b[39m, \u001b[38;5;241m20\u001b[39m)\n",
      "File \u001b[1;32mc:\\users\\johamuel\\documents\\biapol\\projects\\napari-clusters-plotter\\napari_clusters_plotter\\new_plotter_widget.py:57\u001b[0m, in \u001b[0;36mPlotterWidget.__init__\u001b[1;34m(self, napari_viewer)\u001b[0m\n\u001b[0;32m     54\u001b[0m \u001b[38;5;28mself\u001b[39m\u001b[38;5;241m.\u001b[39mlayout\u001b[38;5;241m.\u001b[39msetAlignment(Qt\u001b[38;5;241m.\u001b[39mAlignTop)\n\u001b[0;32m     56\u001b[0m \u001b[38;5;28mself\u001b[39m\u001b[38;5;241m.\u001b[39mplotting_widget \u001b[38;5;241m=\u001b[39m CanvasWidget(napari_viewer, \u001b[38;5;28mself\u001b[39m)\n\u001b[1;32m---> 57\u001b[0m \u001b[38;5;28mself\u001b[39m\u001b[38;5;241m.\u001b[39mplotting_widget\u001b[38;5;241m.\u001b[39mactive_artist \u001b[38;5;241m=\u001b[39m PlottingType\u001b[38;5;241m.\u001b[39mSCATTER\n\u001b[0;32m     59\u001b[0m \u001b[38;5;66;03m# Add plot and options as widgets\u001b[39;00m\n\u001b[0;32m     60\u001b[0m \u001b[38;5;28mself\u001b[39m\u001b[38;5;241m.\u001b[39mlayout\u001b[38;5;241m.\u001b[39maddWidget(\u001b[38;5;28mself\u001b[39m\u001b[38;5;241m.\u001b[39mplotting_widget)\n",
      "File \u001b[1;32mc:\\Users\\johamuel\\AppData\\Local\\mambaforge\\envs\\clusters-plotter-dev\\lib\\site-packages\\biaplotter\\plotter.py:233\u001b[0m, in \u001b[0;36mCanvasWidget.active_artist\u001b[1;34m(self, value)\u001b[0m\n\u001b[0;32m    231\u001b[0m         active_artist_type \u001b[38;5;241m=\u001b[39m artist_type\n\u001b[0;32m    232\u001b[0m \u001b[38;5;66;03m# Emit signal to notify that the current artist has changed\u001b[39;00m\n\u001b[1;32m--> 233\u001b[0m \u001b[38;5;28mself\u001b[39m\u001b[38;5;241m.\u001b[39martist_changed_signal\u001b[38;5;241m.\u001b[39memit(\u001b[43mactive_artist_type\u001b[49m)\n",
      "\u001b[1;31mUnboundLocalError\u001b[0m: local variable 'active_artist_type' referenced before assignment"
     ]
    }
   ],
   "source": [
    "viewer = napari.Viewer()\n",
    "plotter = PlotterWidget(viewer)\n",
    "\n",
    "# Generating the original image with random values\n",
    "original_image = np.random.randint(0, 100, size=(5, 20, 20)).reshape(5, 1, 20, 20)\n",
    "\n",
    "# Generating the segmentation image with labels\n",
    "segmentation_image = np.zeros_like(original_image)\n",
    "\n",
    "# Assign labels in the segmentation image based on predefined criteria\n",
    "for frame in range(5):\n",
    "    segmentation_image[frame, 0, :5, :5] = 1  # Label 1 in all frames\n",
    "    segmentation_image[frame, 0, 5:10, :5] = 2  # Label 2 in all frames\n",
    "    segmentation_image[frame, 0, 10:15, :5] = 3  # Label 3 in all frames\n",
    "    if frame < 3:  # Label 4 in the first 3 frames\n",
    "        segmentation_image[frame, 0, 15:20, :5] = 4\n",
    "    if frame != 2:  # Label 5 in all frames except the third\n",
    "        segmentation_image[frame, 0, :5, 15:20] = 5\n",
    "\n",
    "# Function to calculate region properties for each label in each frame\n",
    "def calculate_region_properties(original_img, label_img):\n",
    "    data = []\n",
    "    for frame in range(original_img.shape[0]):\n",
    "        frame_data = original_img[frame, 0]\n",
    "        label_frame_data = label_img[frame, 0]\n",
    "        for region in regionprops(label_frame_data, intensity_image=frame_data):\n",
    "            label = region.label\n",
    "            mean_intensity = region.mean_intensity\n",
    "            intensity_std = np.std(region.intensity_image)\n",
    "            data.append([frame, label, mean_intensity, intensity_std])\n",
    "    return pd.DataFrame(data, columns=['Frame', 'Label', 'Mean Intensity', 'Std Dev Intensity'])\n",
    "\n",
    "# Calculate region properties\n",
    "region_properties_df = calculate_region_properties(original_image, segmentation_image)\n",
    "\n",
    "# add images to napari\n",
    "viewer.add_image(original_image, name='Original Image')\n",
    "viewer.add_labels(segmentation_image, name='Segmentation Image', features=region_properties_df)\n",
    "\n",
    "viewer.window.add_dock_widget(plotter, area=\"right\")"
   ]
  },
  {
   "cell_type": "code",
   "execution_count": null,
   "metadata": {},
   "outputs": [
    {
     "data": {
      "text/plain": [
       "<PlottingType.SCATTER: 2>"
      ]
     },
     "execution_count": 5,
     "metadata": {},
     "output_type": "execute_result"
    },
    {
     "name": "stderr",
     "output_type": "stream",
     "text": [
      "WARNING: QPixmap::scaled: Pixmap is a null pixmap\n",
      "WARNING: QPixmap::scaled: Pixmap is a null pixmap\n",
      "WARNING: QPixmap::scaled: Pixmap is a null pixmap\n",
      "WARNING: QPixmap::scaled: Pixmap is a null pixmap\n",
      "WARNING: QPixmap::scaled: Pixmap is a null pixmap\n",
      "WARNING: QPixmap::scaled: Pixmap is a null pixmap\n"
     ]
    },
    {
     "name": "stdout",
     "output_type": "stream",
     "text": [
      "Replotting\n",
      "Replotting\n",
      "Replotting\n",
      "Replotting\n"
     ]
    },
    {
     "name": "stderr",
     "output_type": "stream",
     "text": [
      "WARNING: QPixmap::scaled: Pixmap is a null pixmap\n",
      "WARNING: QPixmap::scaled: Pixmap is a null pixmap\n",
      "WARNING: QPixmap::scaled: Pixmap is a null pixmap\n",
      "WARNING: QPixmap::scaled: Pixmap is a null pixmap\n",
      "WARNING: QPixmap::scaled: Pixmap is a null pixmap\n",
      "WARNING: QPixmap::scaled: Pixmap is a null pixmap\n"
     ]
    },
    {
     "name": "stdout",
     "output_type": "stream",
     "text": [
      "Replotting\n",
      "Replotting\n"
     ]
    },
    {
     "name": "stderr",
     "output_type": "stream",
     "text": [
      "WARNING: QPixmap::scaled: Pixmap is a null pixmap\n",
      "WARNING: QPixmap::scaled: Pixmap is a null pixmap\n",
      "WARNING: QPixmap::scaled: Pixmap is a null pixmap\n",
      "WARNING: QPixmap::scaled: Pixmap is a null pixmap\n",
      "WARNING: QPixmap::scaled: Pixmap is a null pixmap\n",
      "WARNING: QPixmap::scaled: Pixmap is a null pixmap\n",
      "WARNING: QPixmap::scaled: Pixmap is a null pixmap\n",
      "WARNING: QPixmap::scaled: Pixmap is a null pixmap\n",
      "WARNING: QPixmap::scaled: Pixmap is a null pixmap\n",
      "WARNING: QPixmap::scaled: Pixmap is a null pixmap\n",
      "WARNING: QPixmap::scaled: Pixmap is a null pixmap\n",
      "WARNING: QPixmap::scaled: Pixmap is a null pixmap\n",
      "WARNING: QPixmap::scaled: Pixmap is a null pixmap\n",
      "WARNING: QPixmap::scaled: Pixmap is a null pixmap\n",
      "WARNING: QPixmap::scaled: Pixmap is a null pixmap\n"
     ]
    }
   ],
   "source": [
    "plotter.plotting_widget.active_artist"
   ]
  }
 ],
 "metadata": {
  "kernelspec": {
   "display_name": "napari-ss-npt-dev",
   "language": "python",
   "name": "python3"
  },
  "language_info": {
   "codemirror_mode": {
    "name": "ipython",
    "version": 3
   },
   "file_extension": ".py",
   "mimetype": "text/x-python",
   "name": "python",
   "nbconvert_exporter": "python",
   "pygments_lexer": "ipython3",
   "version": "3.9.19"
  }
 },
 "nbformat": 4,
 "nbformat_minor": 2
}
