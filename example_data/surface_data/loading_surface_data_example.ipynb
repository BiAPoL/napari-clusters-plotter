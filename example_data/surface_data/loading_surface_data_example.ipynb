{
 "cells": [
  {
   "cell_type": "code",
   "execution_count": 2,
   "id": "0fb2a333-5fb7-4ad8-ba6e-478b3276119a",
   "metadata": {},
   "outputs": [],
   "source": [
    "import pandas as pd\n",
    "import numpy as np\n",
    "import napari\n",
    "\n",
    "gast_feature_df = pd.read_csv(\"gastruloid_surface_features.csv\")\n",
    "loaded_vertices,loaded_edges,_ = np.load(\"gastruloid_surface_example.npy\",allow_pickle=True)\n",
    "loaded_vertices = loaded_vertices.astype(\"float64\")\n",
    "\n",
    "viewer = napari.Viewer(ndisplay=3)\n",
    "viewer.camera.angles = (-45, 0, -90)\n",
    "\n",
    "surface_layer = viewer.add_surface((loaded_vertices,loaded_edges,np.full(len(loaded_vertices),1)))\n",
    "surface_layer.features = gast_feature_df"
   ]
  }
 ],
 "metadata": {
  "kernelspec": {
   "display_name": "Python 3 (ipykernel)",
   "language": "python",
   "name": "python3"
  },
  "language_info": {
   "codemirror_mode": {
    "name": "ipython",
    "version": 3
   },
   "file_extension": ".py",
   "mimetype": "text/x-python",
   "name": "python",
   "nbconvert_exporter": "python",
   "pygments_lexer": "ipython3",
   "version": "3.9.19"
  }
 },
 "nbformat": 4,
 "nbformat_minor": 5
}
