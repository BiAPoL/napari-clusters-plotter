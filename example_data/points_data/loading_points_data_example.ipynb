{
 "cells": [
  {
   "cell_type": "code",
   "execution_count": 1,
   "id": "6aefd27e-e030-44e3-8cf2-2fd7d2189091",
   "metadata": {},
   "outputs": [
    {
     "data": {
      "text/plain": [
       "<Points layer 'points' at 0x17451e42b20>"
      ]
     },
     "execution_count": 1,
     "metadata": {},
     "output_type": "execute_result"
    }
   ],
   "source": [
    "import numpy as np\n",
    "import napari\n",
    "import pandas as pd\n",
    "from napari_clusters_plotter._plotter import PlotterWidget\n",
    "\n",
    "data = pd.read_csv(\"dataframe_human_mitsosis.csv\")\n",
    "\n",
    "points = data[[\"centroid_y\",\"centroid_x\"]].to_numpy()\n",
    "\n",
    "viewer = napari.Viewer()\n",
    "viewer.open_sample(plugin=\"napari\",sample = \"human_mitosis\")\n",
    "viewer.add_points(points, size = 7, features=data)"
   ]
  },
  {
   "cell_type": "code",
   "execution_count": null,
   "id": "74c118bb-0357-4d9c-80bd-409aeb464277",
   "metadata": {},
   "outputs": [],
   "source": []
  }
 ],
 "metadata": {
  "kernelspec": {
   "display_name": "Python 3 (ipykernel)",
   "language": "python",
   "name": "python3"
  },
  "language_info": {
   "codemirror_mode": {
    "name": "ipython",
    "version": 3
   },
   "file_extension": ".py",
   "mimetype": "text/x-python",
   "name": "python",
   "nbconvert_exporter": "python",
   "pygments_lexer": "ipython3",
   "version": "3.9.19"
  }
 },
 "nbformat": 4,
 "nbformat_minor": 5
}
