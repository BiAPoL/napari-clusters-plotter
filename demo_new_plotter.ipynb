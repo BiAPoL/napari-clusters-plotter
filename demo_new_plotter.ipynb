{
 "cells": [
  {
   "cell_type": "code",
   "execution_count": 1,
   "metadata": {},
   "outputs": [],
   "source": [
    "import napari\n",
    "from napari_clusters_plotter.new_plotter_widget import PlotterWidget\n",
    "\n",
    "from skimage import morphology, measure, data\n",
    "import numpy as np\n",
    "import pandas as pd"
   ]
  },
  {
   "cell_type": "code",
   "execution_count": 2,
   "metadata": {},
   "outputs": [],
   "source": [
    "viewer = napari.Viewer()"
   ]
  },
  {
   "cell_type": "markdown",
   "metadata": {},
   "source": [
    "## Points demo"
   ]
  },
  {
   "cell_type": "code",
   "execution_count": 3,
   "metadata": {},
   "outputs": [
    {
     "data": {
      "text/plain": [
       "<Points layer 'points' at 0x224d0ab24f0>"
      ]
     },
     "execution_count": 3,
     "metadata": {},
     "output_type": "execute_result"
    }
   ],
   "source": [
    "# make some random points with random  features\n",
    "points = np.random.random((100, 3))\n",
    "features = pd.DataFrame({'feature1': np.random.random(100),\n",
    "                         'feature2': np.random.random(100),\n",
    "                         'feature3': np.random.random(100),\n",
    "                         'feature4': np.random.random(100),})\n",
    "\n",
    "layer = napari.layers.Points(points, features=features, size=0.1)\n",
    "viewer.add_layer(layer)"
   ]
  },
  {
   "cell_type": "code",
   "execution_count": 4,
   "metadata": {},
   "outputs": [
    {
     "name": "stderr",
     "output_type": "stream",
     "text": [
      "c:\\Users\\johan\\mambaforge\\envs\\clusters-plotter\\lib\\site-packages\\napari_matplotlib\\base.py:46: FutureWarning: The `as_dict` kwarg has been deprecated since Napari 0.5.0 and will be removed in future version. You can use `get_theme(...).to_rgb_dict()`\n",
      "  get_theme(napari_viewer.theme, as_dict=False)\n",
      "c:\\Users\\johan\\mambaforge\\envs\\clusters-plotter\\lib\\site-packages\\napari_matplotlib\\base.py:101: FutureWarning: The `as_dict` kwarg has been deprecated since Napari 0.5.0 and will be removed in future version. You can use `get_theme(...).to_rgb_dict()`\n",
      "  theme = napari.utils.theme.get_theme(self.viewer.theme, as_dict=False)\n"
     ]
    },
    {
     "data": {
      "text/plain": [
       "<napari._qt.widgets.qt_viewer_dock_widget.QtViewerDockWidget at 0x224d2582430>"
      ]
     },
     "execution_count": 4,
     "metadata": {},
     "output_type": "execute_result"
    }
   ],
   "source": [
    "plotter_widget = PlotterWidget(viewer)\n",
    "viewer.window.add_dock_widget(plotter_widget, area='right')"
   ]
  },
  {
   "cell_type": "markdown",
   "metadata": {},
   "source": [
    "## Surface demo"
   ]
  },
  {
   "cell_type": "code",
   "execution_count": 5,
   "metadata": {},
   "outputs": [],
   "source": [
    "faces = np.random.randint(0, 100, (100, 3))\n",
    "\n",
    "surface_layer = viewer.add_surface((points, faces), name='surface')\n",
    "surface_layer.features = features"
   ]
  },
  {
   "cell_type": "markdown",
   "metadata": {},
   "source": [
    "## Labels demo"
   ]
  },
  {
   "cell_type": "code",
   "execution_count": 6,
   "metadata": {},
   "outputs": [
    {
     "name": "stderr",
     "output_type": "stream",
     "text": [
      "c:\\Users\\johan\\mambaforge\\envs\\clusters-plotter\\lib\\site-packages\\napari\\utils\\colormaps\\colormap.py:435: UserWarning: color_dict did not provide a default color. Missing keys will be transparent. To provide a default color, use the key `None`, or provide a defaultdict instance.\n",
      "  warn(\n",
      "c:\\Users\\johan\\mambaforge\\envs\\clusters-plotter\\lib\\site-packages\\napari\\utils\\colormaps\\colormap.py:435: UserWarning: color_dict did not provide a default color. Missing keys will be transparent. To provide a default color, use the key `None`, or provide a defaultdict instance.\n",
      "  warn(\n"
     ]
    },
    {
     "data": {
      "text/plain": [
       "<Labels layer 'labels' at 0x2561e0cf6a0>"
      ]
     },
     "execution_count": 6,
     "metadata": {},
     "output_type": "execute_result"
    }
   ],
   "source": [
    "binary_image = data.binary_blobs(length=128, n_dim=3, volume_fraction=0.1)\n",
    "label_image = measure.label(binary_image)\n",
    "features = pd.DataFrame({\n",
    "    'feature1': np.random.random(label_image.max() + 1),\n",
    "    'feature2': np.random.random(label_image.max() + 1),\n",
    "    'feature3': np.random.random(label_image.max() + 1),\n",
    "})\n",
    "\n",
    "viewer.add_labels(label_image, name='labels', features=features)"
   ]
  },
  {
   "cell_type": "markdown",
   "metadata": {},
   "source": [
    "## Vectors demo"
   ]
  },
  {
   "cell_type": "code",
   "execution_count": 10,
   "metadata": {},
   "outputs": [
    {
     "data": {
      "text/plain": [
       "<Vectors layer 'vectors' at 0x25615ce42e0>"
      ]
     },
     "execution_count": 10,
     "metadata": {},
     "output_type": "execute_result"
    }
   ],
   "source": [
    "points_direction = np.random.normal(size=points.shape) * 100\n",
    "vectors = np.stack([points*100, points_direction], axis=1)\n",
    "\n",
    "viewer.add_vectors(vectors, name='vectors', features=features, vector_style='arrow')"
   ]
  },
  {
   "cell_type": "code",
   "execution_count": null,
   "metadata": {},
   "outputs": [],
   "source": []
  }
 ],
 "metadata": {
  "kernelspec": {
   "display_name": "clusters-plotter",
   "language": "python",
   "name": "python3"
  },
  "language_info": {
   "codemirror_mode": {
    "name": "ipython",
    "version": 3
   },
   "file_extension": ".py",
   "mimetype": "text/x-python",
   "name": "python",
   "nbconvert_exporter": "python",
   "pygments_lexer": "ipython3",
   "version": "3.9.19"
  }
 },
 "nbformat": 4,
 "nbformat_minor": 2
}
